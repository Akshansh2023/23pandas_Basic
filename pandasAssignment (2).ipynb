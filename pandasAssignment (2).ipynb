{
 "cells": [
  {
   "cell_type": "markdown",
   "id": "31b678bd-1e05-414e-94b1-157b98639b50",
   "metadata": {},
   "source": [
    "# Question 1\n",
    "Q1. Create a Pandas Series that contains the following data: 4, 8, 15, 16, 23, and 42. Then, print the series.\n",
    "# Answer\n"
   ]
  },
  {
   "cell_type": "code",
   "execution_count": 5,
   "id": "c98fe1aa-9102-4548-a0ef-0afc13310226",
   "metadata": {},
   "outputs": [],
   "source": [
    "import pandas as pd "
   ]
  },
  {
   "cell_type": "code",
   "execution_count": null,
   "id": "8397027e-c9b0-402b-b74d-05fe257acf5a",
   "metadata": {},
   "outputs": [],
   "source": [
    "import pandas as pd\n",
    "my_list = [4,8,15,16,23,42]\n",
    "my_series = pd.Series(my_list)\n",
    "print(my_series)"
   ]
  },
  {
   "cell_type": "markdown",
   "id": "de16e925-e9f0-4cbf-af96-2ee178263765",
   "metadata": {},
   "source": [
    "# Question 2\n",
    "Q2. Create a variable of list type containing 10 elements in it, and apply pandas.Series function on the\n",
    "variable print it.\n",
    "# Answer "
   ]
  },
  {
   "cell_type": "code",
   "execution_count": null,
   "id": "653f0242-27d8-4dd3-acfa-fdbc9f5fe4f6",
   "metadata": {},
   "outputs": [],
   "source": [
    "# Answer\n",
    "my_list1 = [1, 2, 3, 4, 5, 6, 7, 8, 9, 10] \n",
    "my_series1 = pd.Series(my_list1)\n",
    "print(my_series1)"
   ]
  },
  {
   "cell_type": "markdown",
   "id": "9a32d1bd-07e5-4fe6-a313-b2e4446a5aba",
   "metadata": {},
   "source": [
    "# question 3\n",
    "Q3. Create a Pandas DataFrame that contains the following data:\n",
    "Name,Age,Gender\n",
    "Alice,25,female\n",
    "Bob,30,male\n",
    "Claire,27,femalezzz\n",
    "Then, print the DataFrame.\n",
    "# Answer"
   ]
  },
  {
   "cell_type": "code",
   "execution_count": null,
   "id": "d467a7a1-1155-4605-81b1-32969c48b94c",
   "metadata": {},
   "outputs": [],
   "source": [
    "# Answer\n",
    "data = {'Name': ['alice', 'bob', 'claire'],\n",
    "\n",
    "        'Age': [25,30,27],\n",
    "\n",
    "        'Occupation': ['female','male','female']}\n",
    "df = pd.DataFrame(data)\n",
    "print(df)"
   ]
  },
  {
   "cell_type": "markdown",
   "id": "938ad849-64b5-4e97-8de9-2899d8b66af7",
   "metadata": {},
   "source": [
    "# Question 4\n",
    "Q4. What is ‘DataFrame’ in pandas and how is it different from pandas.series? Explain with an example.\n",
    "# Answer\n",
    " A pandas dataframe is a two-dimensional data structure that can store tabular data with labeled rows and columns. To create a pandas dataframe, we need to import the pandas module and use the pd.DataFrame() function with some data as an argument.\n",
    " For example:"
   ]
  },
  {
   "cell_type": "code",
   "execution_count": null,
   "id": "1828519f-be0b-4e52-97af-9c80d6173d58",
   "metadata": {},
   "outputs": [],
   "source": [
    "data1 = {\n",
    "  \"name\": [\"Alice\", \"Bob\", \"Charlie\"],\n",
    "  \"age\": [25, 30, 35],\n",
    "  \"gender\": [\"F\", \"M\", \"M\"]\n",
    "}\n",
    "df1 = pd.DataFrame(data1)\n",
    "print(df1)"
   ]
  },
  {
   "cell_type": "markdown",
   "id": "2b05466f-cfa3-4217-8f09-3b8d9d6a7f1d",
   "metadata": {},
   "source": [
    "# Question 5\n",
    "Q5. What are some common functions you can use to manipulate data in a Pandas DataFrame? Can\n",
    "you give an example of when you might use one of these functions?\n",
    "\n",
    "# Answer\n",
    "Here are some common functions to manipulate data in a Pandas DataFrame:\n",
    "head() - to view the top n rows of the DataFrame\n",
    "tail() - to view the bottom n rows of the DataFrame\n",
    "describe() - to get summary statistics of the DataFrame\n",
    "sort_values() - to sort the DataFrame by one or more columns\n",
    "groupby() - to group the DataFrame by one or more columns and perform aggregate calculations on the groups\n",
    "Example usage of one of these functions:"
   ]
  },
  {
   "cell_type": "code",
   "execution_count": null,
   "id": "0333b708-95d8-4ae8-8559-972051163077",
   "metadata": {},
   "outputs": [],
   "source": [
    "import pandas as pd\n",
    "\n",
    "# create a DataFrame\n",
    "df = pd.read_csv('sales_data.csv')\n",
    "\n",
    "# view the top 5 rows of the DataFrame\n",
    "df.head()\n",
    "\n",
    "# sort the DataFrame by sales in descending order\n",
    "df.sort_values('sales', ascending=False)\n",
    "\n",
    "# group the DataFrame by region and calculate the mean sales for each region\n",
    "df.groupby('region')['sales'].mean()\n"
   ]
  },
  {
   "cell_type": "markdown",
   "id": "d6e9ff56-e92c-440e-b263-72245daee503",
   "metadata": {},
   "source": [
    "# Question 6\n",
    "Q6. Which of the following is mutable in nature Series, DataFrame, Panel?\n",
    "# Answer\n",
    "In Pandas, both Series and DataFrame are mutable in nature, while Panel is deprecated since version 0.25.0 and is no longer recommended for use.\n",
    "A mutable object is an object whose contents can be changed after it is created.\n",
    "For example, you can change the values in a Pandas Series or DataFrame by assigning new values to specific rows, columns, or cells. In contrast, an immutable object cannot be changed after it is created.\n",
    "Examples of mutable objects in Python include lists, dictionaries, and sets, while examples of immutable objects include tuples, strings, and numbers.\n"
   ]
  },
  {
   "cell_type": "markdown",
   "id": "e99cb92a-68bf-42ea-a7d3-9bcb7898b135",
   "metadata": {},
   "source": [
    "# Question 7\n",
    "Q7. Create a DataFrame using multiple Series. Explain with an example.\n",
    "# Answer\n",
    "To create a DataFrame using multiple Series in Pandas, we can pass a dictionary where the keys are the column names and the values are the Series.\n",
    "The length of all the Series should be the same."
   ]
  },
  {
   "cell_type": "code",
   "execution_count": null,
   "id": "98fbe696-f2a0-408e-a746-a4efec5da6ab",
   "metadata": {},
   "outputs": [],
   "source": [
    "Here's an example:\n",
    "import pandas as pd\n",
    "# create a Series for each column\n",
    "names = pd.Series(['Alice', 'Bob', 'Charlie'])\n",
    "ages = pd.Series([25, 30, 35])\n",
    "genders = pd.Series(['F', 'M', 'M'])\n",
    "# create a DataFrame using the Series\n",
    "df = pd.DataFrame({'name': names, 'age': ages, 'gender': genders})\n",
    "# view the DataFrame\n",
    "print(df)"
   ]
  }
 ],
 "metadata": {
  "kernelspec": {
   "display_name": "Python 3 (ipykernel)",
   "language": "python",
   "name": "python3"
  },
  "language_info": {
   "codemirror_mode": {
    "name": "ipython",
    "version": 3
   },
   "file_extension": ".py",
   "mimetype": "text/x-python",
   "name": "python",
   "nbconvert_exporter": "python",
   "pygments_lexer": "ipython3",
   "version": "3.10.8"
  }
 },
 "nbformat": 4,
 "nbformat_minor": 5
}
